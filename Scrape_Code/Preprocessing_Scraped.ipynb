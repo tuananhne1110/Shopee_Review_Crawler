{
 "cells": [
  {
   "cell_type": "code",
   "execution_count": 132,
   "metadata": {},
   "outputs": [],
   "source": [
    "import pandas as pd\n",
    "import numpy as np\n",
    "df = pd.read_csv(\"Raw.csv\")\n"
   ]
  },
  {
   "cell_type": "code",
   "execution_count": 103,
   "metadata": {},
   "outputs": [
    {
     "data": {
      "text/html": [
       "<div>\n",
       "<style scoped>\n",
       "    .dataframe tbody tr th:only-of-type {\n",
       "        vertical-align: middle;\n",
       "    }\n",
       "\n",
       "    .dataframe tbody tr th {\n",
       "        vertical-align: top;\n",
       "    }\n",
       "\n",
       "    .dataframe thead th {\n",
       "        text-align: right;\n",
       "    }\n",
       "</style>\n",
       "<table border=\"1\" class=\"dataframe\">\n",
       "  <thead>\n",
       "    <tr style=\"text-align: right;\">\n",
       "      <th></th>\n",
       "      <th>Shop_name</th>\n",
       "      <th>Product_name</th>\n",
       "      <th>Product_ID</th>\n",
       "      <th>Total_Rating_Shop</th>\n",
       "      <th>Total_Rating_Product</th>\n",
       "      <th>Total_Review_Product</th>\n",
       "      <th>Total_sold</th>\n",
       "      <th>Response_rate</th>\n",
       "      <th>Join_from</th>\n",
       "      <th>Total_Product</th>\n",
       "      <th>...</th>\n",
       "      <th>Follower</th>\n",
       "      <th>Gia_Goc</th>\n",
       "      <th>Gia_Sau_Km</th>\n",
       "      <th>Discount</th>\n",
       "      <th>Time</th>\n",
       "      <th>Mat_Hang</th>\n",
       "      <th>Ten_khach_hang</th>\n",
       "      <th>Thong_tin_Review</th>\n",
       "      <th>Sao_danh_gia</th>\n",
       "      <th>Customer_ID</th>\n",
       "    </tr>\n",
       "  </thead>\n",
       "  <tbody>\n",
       "  </tbody>\n",
       "</table>\n",
       "<p>0 rows × 21 columns</p>\n",
       "</div>"
      ],
      "text/plain": [
       "Empty DataFrame\n",
       "Columns: [Shop_name, Product_name, Product_ID, Total_Rating_Shop, Total_Rating_Product, Total_Review_Product, Total_sold, Response_rate, Join_from, Total_Product, Response_time, Follower, Gia_Goc, Gia_Sau_Km, Discount, Time, Mat_Hang, Ten_khach_hang, Thong_tin_Review, Sao_danh_gia, Customer_ID]\n",
       "Index: []\n",
       "\n",
       "[0 rows x 21 columns]"
      ]
     },
     "execution_count": 103,
     "metadata": {},
     "output_type": "execute_result"
    }
   ],
   "source": [
    "# Drop phan hoi nguoi ban\n",
    "# df = df.drop(df[df['Thong_tin_Review'].str.contains(\"phản hồi của Người Bán\")].index)\n",
    "df[df['Thong_tin_Review'].str.contains(\"phản hồi của Người Bán\")]"
   ]
  },
  {
   "cell_type": "code",
   "execution_count": 135,
   "metadata": {},
   "outputs": [],
   "source": [
    "df_review = df['Thong_tin_Review']"
   ]
  },
  {
   "cell_type": "code",
   "execution_count": 111,
   "metadata": {},
   "outputs": [],
   "source": [
    "# Review has form\n",
    "df1 =  df[df_review.str.contains('Chất liệu:')]\n",
    "df2 = df[df_review.str.contains('Đúng với mô tả:')]\n",
    "df3 = df[df_review.str.contains('Màu sắc:')]\n",
    "merged_df = pd.concat([df1, df2,df3], ignore_index=True)\n",
    "merged_df.drop_duplicates(inplace=True)\n",
    "merged_df.rename(columns={'Thong_tin_Review':\"Reivew_Theo_Mẫu_Shopee\"},inplace=True)\n",
    "Review = merged_df[\"Reivew_Theo_Mẫu_Shopee\"]\n",
    "Review.to_csv('Reviews_has_form.csv', index=False,encoding='utf-8-sig')\n"
   ]
  },
  {
   "cell_type": "code",
   "execution_count": 105,
   "metadata": {},
   "outputs": [],
   "source": [
    "# Review has no form\n",
    "new = df.drop(df[df['Thong_tin_Review'].str.contains(\"Chất liệu:\")].index)\n",
    "new.drop(new[new['Thong_tin_Review'].str.contains(\"Đúng với mô tả:\")].index,inplace=True)\n",
    "new.drop(new[new['Thong_tin_Review'].str.contains(\"Màu sắc:\")].index,inplace=True)\n",
    "new.rename(columns={'Thong_tin_Review':\"Reivew_Không_Mẫu\"},inplace=True)\n",
    "new = new['Reivew_Không_Mẫu']\n",
    "new.to_csv('Reviews_no_form.csv', index=False,encoding='utf-8-sig')\n",
    "# new = new[[\"Shop_name\",\"Product_name\",\"Time\",\"Mat_Hang\",\"Ten_khach_hang\",\"Sao_danh_gia\",\"Review_ship\"'Reivew_Không_Mẫu']]\n"
   ]
  },
  {
   "cell_type": "code",
   "execution_count": 142,
   "metadata": {},
   "outputs": [
    {
     "name": "stderr",
     "output_type": "stream",
     "text": [
      "C:\\Users\\ASUS\\AppData\\Local\\Temp\\ipykernel_30808\\1421767664.py:3: SettingWithCopyWarning: \n",
      "A value is trying to be set on a copy of a slice from a DataFrame\n",
      "\n",
      "See the caveats in the documentation: https://pandas.pydata.org/pandas-docs/stable/user_guide/indexing.html#returning-a-view-versus-a-copy\n",
      "  df_ship.rename(columns={'Thong_tin_Review':\"Review_ship\"},inplace=True)\n",
      "C:\\Users\\ASUS\\AppData\\Local\\Temp\\ipykernel_30808\\1421767664.py:6: SettingWithCopyWarning: \n",
      "A value is trying to be set on a copy of a slice from a DataFrame\n",
      "\n",
      "See the caveats in the documentation: https://pandas.pydata.org/pandas-docs/stable/user_guide/indexing.html#returning-a-view-versus-a-copy\n",
      "  df_slow.rename(columns={'Thong_tin_Review':\"Review_ship_chậm\"},inplace=True)\n",
      "C:\\Users\\ASUS\\AppData\\Local\\Temp\\ipykernel_30808\\1421767664.py:9: SettingWithCopyWarning: \n",
      "A value is trying to be set on a copy of a slice from a DataFrame\n",
      "\n",
      "See the caveats in the documentation: https://pandas.pydata.org/pandas-docs/stable/user_guide/indexing.html#returning-a-view-versus-a-copy\n",
      "  df_fast.rename(columns={'Thong_tin_Review':\"Review_ship_nhanh\"},inplace=True)\n",
      "C:\\Users\\ASUS\\AppData\\Local\\Temp\\ipykernel_30808\\1421767664.py:12: SettingWithCopyWarning: \n",
      "A value is trying to be set on a copy of a slice from a DataFrame\n",
      "\n",
      "See the caveats in the documentation: https://pandas.pydata.org/pandas-docs/stable/user_guide/indexing.html#returning-a-view-versus-a-copy\n",
      "  df_wrong.rename(columns={'Thong_tin_Review':\"Review_ship_sai_hang\"},inplace=True)\n"
     ]
    }
   ],
   "source": [
    "# Review chứa thông tin liên quan giao hàng\n",
    "df_ship = df[df_review.str.contains(\"giao hàng\")]\n",
    "df_ship.rename(columns={'Thong_tin_Review':\"Review_ship\"},inplace=True)\n",
    "df_ship = df_ship[[\"Review_ship\"]]\n",
    "df_slow = df[df_review.str.contains(\"chậm\")]\n",
    "df_slow.rename(columns={'Thong_tin_Review':\"Review_ship_chậm\"},inplace=True)\n",
    "df_slow = df_slow['Review_ship_chậm']\n",
    "df_fast = df[df_review.str.contains(\"nhanh\")]\n",
    "df_fast.rename(columns={'Thong_tin_Review':\"Review_ship_nhanh\"},inplace=True)\n",
    "df_fast = df_fast['Review_ship_nhanh']\n",
    "df_wrong = df[df_review.str.contains(\"giao sai\")]\n",
    "df_wrong.rename(columns={'Thong_tin_Review':\"Review_ship_sai_hang\"},inplace=True)\n",
    "df_wrong = df_wrong['Review_ship_sai_hang']\n",
    "max_length = max(len(df_ship), len(df_slow), len(df_fast), len(df_wrong))\n",
    "df_ship = df_ship.reset_index(drop=True).reindex(np.arange(max_length))\n",
    "df_slow = df_slow.reset_index(drop=True).reindex(np.arange(max_length))\n",
    "df_fast = df_fast.reset_index(drop=True).reindex(np.arange(max_length))\n",
    "df_wrong = df_wrong.reset_index(drop=True).reindex(np.arange(max_length))\n",
    "ship = pd.concat([df_ship, df_slow,df_fast,df_wrong], axis = 1)\n",
    "ship.to_csv('Giao_hang.csv', index=False,encoding='utf-8-sig')\n"
   ]
  },
  {
   "cell_type": "code",
   "execution_count": 143,
   "metadata": {},
   "outputs": [
    {
     "data": {
      "text/plain": [
       "0       shop giao sai màu , mình đặt xám shop giao đen...\n",
       "1       Chất liệu: Len dạMàu sắc: ĐenĐúng với mô tả: K...\n",
       "2       Chất áo dày, nhưng màu giao sai\\nMình đặt đen ...\n",
       "3       Chất lượng cũng được nhưng shop giao sai màu đ...\n",
       "4             dịch vụ vận chuyển quá chậm áo giao sai màu\n",
       "                              ...                        \n",
       "3259                                                  NaN\n",
       "3260                                                  NaN\n",
       "3261                                                  NaN\n",
       "3262                                                  NaN\n",
       "3263                                                  NaN\n",
       "Name: Review_ship_sai_hang, Length: 3264, dtype: object"
      ]
     },
     "execution_count": 143,
     "metadata": {},
     "output_type": "execute_result"
    }
   ],
   "source": [
    "df_size = "
   ]
  },
  {
   "cell_type": "code",
   "execution_count": null,
   "metadata": {},
   "outputs": [],
   "source": [
    "# Review chứa thông tin liên quan giá\n",
    "df_review = df_review[df_review.str.contains(\"giá\")]\n",
    "\n"
   ]
  },
  {
   "cell_type": "code",
   "execution_count": 24,
   "metadata": {},
   "outputs": [],
   "source": [
    "# Delete duplicated ID == 1\n",
    "df = df.drop(df[df['Customer_ID'] == 1].index)"
   ]
  },
  {
   "cell_type": "code",
   "execution_count": 20,
   "metadata": {},
   "outputs": [],
   "source": [
    "# Delete meaningless row\n",
    "df = df.drop(df[df['Thong_tin_Review'].str.contains('báo cáo')].index)"
   ]
  },
  {
   "cell_type": "code",
   "execution_count": null,
   "metadata": {},
   "outputs": [],
   "source": [
    "#Fill blank\n",
    "\n",
    "df.loc[df['Total_Rating_Shop'].isnull() | (df['Total_Rating_Shop'] == ''), :]= df.fillna(method='ffill')\n",
    "df[df[\"Total_Rating_Shop\"].notnull()]"
   ]
  },
  {
   "cell_type": "code",
   "execution_count": null,
   "metadata": {},
   "outputs": [],
   "source": [
    "# Generate Customer ID \n",
    "for each_name in df[\"Ten_khach_hang\"]:\n",
    "    print(each_name)\n",
    "name_to_id = {}\n",
    "ids = []\n",
    "for name in df['Ten_khach_hang']:\n",
    "    if name in name_to_id:\n",
    "        ids.append(name_to_id[name])\n",
    "    else:\n",
    "        new_id = len(name_to_id) + 1\n",
    "        name_to_id[name] = new_id\n",
    "        ids.append(new_id)\n",
    "df['Customer_ID'] = ids\n",
    "\n",
    "df.to_csv('Review_Shopee_Raw.csv', index=False,encoding='utf-8-sig')\n"
   ]
  }
 ],
 "metadata": {
  "kernelspec": {
   "display_name": "base",
   "language": "python",
   "name": "python3"
  },
  "language_info": {
   "codemirror_mode": {
    "name": "ipython",
    "version": 3
   },
   "file_extension": ".py",
   "mimetype": "text/x-python",
   "name": "python",
   "nbconvert_exporter": "python",
   "pygments_lexer": "ipython3",
   "version": "3.11.5"
  }
 },
 "nbformat": 4,
 "nbformat_minor": 2
}
